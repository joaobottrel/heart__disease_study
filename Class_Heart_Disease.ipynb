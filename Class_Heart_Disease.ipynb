{
  "nbformat": 4,
  "nbformat_minor": 0,
  "metadata": {
    "colab": {
      "name": "Class_Heart_Disease.ipynb",
      "provenance": [],
      "collapsed_sections": [],
      "authorship_tag": "ABX9TyOBgMTGA/wG5lfKCj+tpfvW"
    },
    "kernelspec": {
      "name": "python3",
      "display_name": "Python 3"
    },
    "language_info": {
      "name": "python"
    }
  },
  "cells": [
    {
      "cell_type": "markdown",
      "metadata": {
        "id": "cXqhdXH9LLVW"
      },
      "source": [
        "##João Augusto Silva Bottrel - RID0468"
      ]
    },
    {
      "cell_type": "markdown",
      "metadata": {
        "id": "ecqYW_bHc1pp"
      },
      "source": [
        "Objetivo: Criar um modelo de Classificação para prever baseado nas features recebidas se o paciente apresenta algum tipo de doença cardíaca."
      ]
    },
    {
      "cell_type": "markdown",
      "metadata": {
        "id": "4pipMNNHdGQB"
      },
      "source": [
        "#0. Importando Bibliotecas"
      ]
    },
    {
      "cell_type": "code",
      "metadata": {
        "id": "CUrH0YKLcQAc"
      },
      "source": [
        "import numpy as np\n",
        "import pandas as pd\n",
        "import seaborn as sns\n",
        "import matplotlib.pyplot as plt"
      ],
      "execution_count": 61,
      "outputs": []
    },
    {
      "cell_type": "markdown",
      "metadata": {
        "id": "OTqVos9mc1-W"
      },
      "source": [
        "#1. Importando o Dataset"
      ]
    },
    {
      "cell_type": "code",
      "metadata": {
        "colab": {
          "base_uri": "https://localhost:8080/"
        },
        "id": "WMKABCBLeNoX",
        "outputId": "70598eaf-c2c8-49be-b63b-afc062e32df1"
      },
      "source": [
        "from google.colab import drive\n",
        "drive.mount('/content/gdrive', force_remount=True)"
      ],
      "execution_count": 62,
      "outputs": [
        {
          "output_type": "stream",
          "name": "stdout",
          "text": [
            "Mounted at /content/gdrive\n"
          ]
        }
      ]
    },
    {
      "cell_type": "code",
      "metadata": {
        "id": "4hL2ZGzNe2tn"
      },
      "source": [
        "path='/content/gdrive/MyDrive/Colab Notebooks/Bases/heart.csv'\n",
        "df=pd.read_csv(path)"
      ],
      "execution_count": 63,
      "outputs": []
    },
    {
      "cell_type": "markdown",
      "metadata": {
        "id": "zxKi77YYfDI4"
      },
      "source": [
        "#2. Análise Preliminar (EDA, Data Cleaning e geração do dataset final)"
      ]
    },
    {
      "cell_type": "markdown",
      "metadata": {
        "id": "EQlwNTgBLAni"
      },
      "source": [
        "Amostragem do dataset"
      ]
    },
    {
      "cell_type": "code",
      "metadata": {
        "colab": {
          "base_uri": "https://localhost:8080/",
          "height": 359
        },
        "id": "qEpJlVn-e_Jp",
        "outputId": "95587f29-1f7d-4b6c-e4f5-fe415d7384c0"
      },
      "source": [
        "df.sample(10)"
      ],
      "execution_count": 64,
      "outputs": [
        {
          "output_type": "execute_result",
          "data": {
            "text/html": [
              "<div>\n",
              "<style scoped>\n",
              "    .dataframe tbody tr th:only-of-type {\n",
              "        vertical-align: middle;\n",
              "    }\n",
              "\n",
              "    .dataframe tbody tr th {\n",
              "        vertical-align: top;\n",
              "    }\n",
              "\n",
              "    .dataframe thead th {\n",
              "        text-align: right;\n",
              "    }\n",
              "</style>\n",
              "<table border=\"1\" class=\"dataframe\">\n",
              "  <thead>\n",
              "    <tr style=\"text-align: right;\">\n",
              "      <th></th>\n",
              "      <th>age</th>\n",
              "      <th>sex</th>\n",
              "      <th>cp</th>\n",
              "      <th>trestbps</th>\n",
              "      <th>chol</th>\n",
              "      <th>fbs</th>\n",
              "      <th>restecg</th>\n",
              "      <th>thalach</th>\n",
              "      <th>exang</th>\n",
              "      <th>oldpeak</th>\n",
              "      <th>slope</th>\n",
              "      <th>ca</th>\n",
              "      <th>thal</th>\n",
              "      <th>target</th>\n",
              "    </tr>\n",
              "  </thead>\n",
              "  <tbody>\n",
              "    <tr>\n",
              "      <th>130</th>\n",
              "      <td>54</td>\n",
              "      <td>0</td>\n",
              "      <td>2</td>\n",
              "      <td>160</td>\n",
              "      <td>201</td>\n",
              "      <td>0</td>\n",
              "      <td>1</td>\n",
              "      <td>163</td>\n",
              "      <td>0</td>\n",
              "      <td>0.0</td>\n",
              "      <td>2</td>\n",
              "      <td>1</td>\n",
              "      <td>2</td>\n",
              "      <td>1</td>\n",
              "    </tr>\n",
              "    <tr>\n",
              "      <th>261</th>\n",
              "      <td>52</td>\n",
              "      <td>1</td>\n",
              "      <td>0</td>\n",
              "      <td>112</td>\n",
              "      <td>230</td>\n",
              "      <td>0</td>\n",
              "      <td>1</td>\n",
              "      <td>160</td>\n",
              "      <td>0</td>\n",
              "      <td>0.0</td>\n",
              "      <td>2</td>\n",
              "      <td>1</td>\n",
              "      <td>2</td>\n",
              "      <td>0</td>\n",
              "    </tr>\n",
              "    <tr>\n",
              "      <th>142</th>\n",
              "      <td>42</td>\n",
              "      <td>0</td>\n",
              "      <td>2</td>\n",
              "      <td>120</td>\n",
              "      <td>209</td>\n",
              "      <td>0</td>\n",
              "      <td>1</td>\n",
              "      <td>173</td>\n",
              "      <td>0</td>\n",
              "      <td>0.0</td>\n",
              "      <td>1</td>\n",
              "      <td>0</td>\n",
              "      <td>2</td>\n",
              "      <td>1</td>\n",
              "    </tr>\n",
              "    <tr>\n",
              "      <th>61</th>\n",
              "      <td>54</td>\n",
              "      <td>1</td>\n",
              "      <td>1</td>\n",
              "      <td>108</td>\n",
              "      <td>309</td>\n",
              "      <td>0</td>\n",
              "      <td>1</td>\n",
              "      <td>156</td>\n",
              "      <td>0</td>\n",
              "      <td>0.0</td>\n",
              "      <td>2</td>\n",
              "      <td>0</td>\n",
              "      <td>3</td>\n",
              "      <td>1</td>\n",
              "    </tr>\n",
              "    <tr>\n",
              "      <th>51</th>\n",
              "      <td>66</td>\n",
              "      <td>1</td>\n",
              "      <td>0</td>\n",
              "      <td>120</td>\n",
              "      <td>302</td>\n",
              "      <td>0</td>\n",
              "      <td>0</td>\n",
              "      <td>151</td>\n",
              "      <td>0</td>\n",
              "      <td>0.4</td>\n",
              "      <td>1</td>\n",
              "      <td>0</td>\n",
              "      <td>2</td>\n",
              "      <td>1</td>\n",
              "    </tr>\n",
              "    <tr>\n",
              "      <th>116</th>\n",
              "      <td>41</td>\n",
              "      <td>1</td>\n",
              "      <td>2</td>\n",
              "      <td>130</td>\n",
              "      <td>214</td>\n",
              "      <td>0</td>\n",
              "      <td>0</td>\n",
              "      <td>168</td>\n",
              "      <td>0</td>\n",
              "      <td>2.0</td>\n",
              "      <td>1</td>\n",
              "      <td>0</td>\n",
              "      <td>2</td>\n",
              "      <td>1</td>\n",
              "    </tr>\n",
              "    <tr>\n",
              "      <th>22</th>\n",
              "      <td>42</td>\n",
              "      <td>1</td>\n",
              "      <td>0</td>\n",
              "      <td>140</td>\n",
              "      <td>226</td>\n",
              "      <td>0</td>\n",
              "      <td>1</td>\n",
              "      <td>178</td>\n",
              "      <td>0</td>\n",
              "      <td>0.0</td>\n",
              "      <td>2</td>\n",
              "      <td>0</td>\n",
              "      <td>2</td>\n",
              "      <td>1</td>\n",
              "    </tr>\n",
              "    <tr>\n",
              "      <th>227</th>\n",
              "      <td>35</td>\n",
              "      <td>1</td>\n",
              "      <td>0</td>\n",
              "      <td>120</td>\n",
              "      <td>198</td>\n",
              "      <td>0</td>\n",
              "      <td>1</td>\n",
              "      <td>130</td>\n",
              "      <td>1</td>\n",
              "      <td>1.6</td>\n",
              "      <td>1</td>\n",
              "      <td>0</td>\n",
              "      <td>3</td>\n",
              "      <td>0</td>\n",
              "    </tr>\n",
              "    <tr>\n",
              "      <th>263</th>\n",
              "      <td>63</td>\n",
              "      <td>0</td>\n",
              "      <td>0</td>\n",
              "      <td>108</td>\n",
              "      <td>269</td>\n",
              "      <td>0</td>\n",
              "      <td>1</td>\n",
              "      <td>169</td>\n",
              "      <td>1</td>\n",
              "      <td>1.8</td>\n",
              "      <td>1</td>\n",
              "      <td>2</td>\n",
              "      <td>2</td>\n",
              "      <td>0</td>\n",
              "    </tr>\n",
              "    <tr>\n",
              "      <th>218</th>\n",
              "      <td>65</td>\n",
              "      <td>1</td>\n",
              "      <td>0</td>\n",
              "      <td>135</td>\n",
              "      <td>254</td>\n",
              "      <td>0</td>\n",
              "      <td>0</td>\n",
              "      <td>127</td>\n",
              "      <td>0</td>\n",
              "      <td>2.8</td>\n",
              "      <td>1</td>\n",
              "      <td>1</td>\n",
              "      <td>3</td>\n",
              "      <td>0</td>\n",
              "    </tr>\n",
              "  </tbody>\n",
              "</table>\n",
              "</div>"
            ],
            "text/plain": [
              "     age  sex  cp  trestbps  chol  fbs  ...  exang  oldpeak  slope  ca  thal  target\n",
              "130   54    0   2       160   201    0  ...      0      0.0      2   1     2       1\n",
              "261   52    1   0       112   230    0  ...      0      0.0      2   1     2       0\n",
              "142   42    0   2       120   209    0  ...      0      0.0      1   0     2       1\n",
              "61    54    1   1       108   309    0  ...      0      0.0      2   0     3       1\n",
              "51    66    1   0       120   302    0  ...      0      0.4      1   0     2       1\n",
              "116   41    1   2       130   214    0  ...      0      2.0      1   0     2       1\n",
              "22    42    1   0       140   226    0  ...      0      0.0      2   0     2       1\n",
              "227   35    1   0       120   198    0  ...      1      1.6      1   0     3       0\n",
              "263   63    0   0       108   269    0  ...      1      1.8      1   2     2       0\n",
              "218   65    1   0       135   254    0  ...      0      2.8      1   1     3       0\n",
              "\n",
              "[10 rows x 14 columns]"
            ]
          },
          "metadata": {},
          "execution_count": 64
        }
      ]
    },
    {
      "cell_type": "markdown",
      "metadata": {
        "id": "N_tyLZjKfMk1"
      },
      "source": [
        "Explicação das colunas:\n",
        "- age: Idade (Anos)\n",
        "- sex: Sexo (1 = Masc e 0 = Fem)\n",
        "- cp: Nível de dor ( 1 a 4 )\n",
        "- trestbps: Pressão sanguínea em Repouso\n",
        "- chol: colesterol em mg/dl:\n",
        "- fbs: Fasting Blood Sugar (Teste diabético) > 120 mg/dl\n",
        "- restecg: Eletrocardiogramas em repouso (0,1 ou 2)\n",
        "- thalach: Ritmo cardíaco\n",
        "- exang: Exercício físico que gerou Angina\n",
        "- oldpeak: Depressão de ST induzida por exercício em relação ao\n",
        "repouso\n",
        "- slope: Tipo de inclinação do segmento ST de pico do exercício\n",
        "- ca: número de vasos sanguínios ressaltados (coloridos por\n",
        "fluoroscopia)\n",
        "- thal: Talassemia -> 3 = normal; 6 = fixed defect; 7 = reversable\n",
        "defect"
      ]
    },
    {
      "cell_type": "markdown",
      "metadata": {
        "id": "eUdkuK8tK7iu"
      },
      "source": [
        "Análise da estatística descritiva"
      ]
    },
    {
      "cell_type": "code",
      "metadata": {
        "colab": {
          "base_uri": "https://localhost:8080/",
          "height": 297
        },
        "id": "A293yQqOfTPu",
        "outputId": "a2d32a5d-0066-4a1a-dfd0-807ccb520f5b"
      },
      "source": [
        "df.describe()"
      ],
      "execution_count": 65,
      "outputs": [
        {
          "output_type": "execute_result",
          "data": {
            "text/html": [
              "<div>\n",
              "<style scoped>\n",
              "    .dataframe tbody tr th:only-of-type {\n",
              "        vertical-align: middle;\n",
              "    }\n",
              "\n",
              "    .dataframe tbody tr th {\n",
              "        vertical-align: top;\n",
              "    }\n",
              "\n",
              "    .dataframe thead th {\n",
              "        text-align: right;\n",
              "    }\n",
              "</style>\n",
              "<table border=\"1\" class=\"dataframe\">\n",
              "  <thead>\n",
              "    <tr style=\"text-align: right;\">\n",
              "      <th></th>\n",
              "      <th>age</th>\n",
              "      <th>sex</th>\n",
              "      <th>cp</th>\n",
              "      <th>trestbps</th>\n",
              "      <th>chol</th>\n",
              "      <th>fbs</th>\n",
              "      <th>restecg</th>\n",
              "      <th>thalach</th>\n",
              "      <th>exang</th>\n",
              "      <th>oldpeak</th>\n",
              "      <th>slope</th>\n",
              "      <th>ca</th>\n",
              "      <th>thal</th>\n",
              "      <th>target</th>\n",
              "    </tr>\n",
              "  </thead>\n",
              "  <tbody>\n",
              "    <tr>\n",
              "      <th>count</th>\n",
              "      <td>303.000000</td>\n",
              "      <td>303.000000</td>\n",
              "      <td>303.000000</td>\n",
              "      <td>303.000000</td>\n",
              "      <td>303.000000</td>\n",
              "      <td>303.000000</td>\n",
              "      <td>303.000000</td>\n",
              "      <td>303.000000</td>\n",
              "      <td>303.000000</td>\n",
              "      <td>303.000000</td>\n",
              "      <td>303.000000</td>\n",
              "      <td>303.000000</td>\n",
              "      <td>303.000000</td>\n",
              "      <td>303.000000</td>\n",
              "    </tr>\n",
              "    <tr>\n",
              "      <th>mean</th>\n",
              "      <td>54.366337</td>\n",
              "      <td>0.683168</td>\n",
              "      <td>0.966997</td>\n",
              "      <td>131.623762</td>\n",
              "      <td>246.264026</td>\n",
              "      <td>0.148515</td>\n",
              "      <td>0.528053</td>\n",
              "      <td>149.646865</td>\n",
              "      <td>0.326733</td>\n",
              "      <td>1.039604</td>\n",
              "      <td>1.399340</td>\n",
              "      <td>0.729373</td>\n",
              "      <td>2.313531</td>\n",
              "      <td>0.544554</td>\n",
              "    </tr>\n",
              "    <tr>\n",
              "      <th>std</th>\n",
              "      <td>9.082101</td>\n",
              "      <td>0.466011</td>\n",
              "      <td>1.032052</td>\n",
              "      <td>17.538143</td>\n",
              "      <td>51.830751</td>\n",
              "      <td>0.356198</td>\n",
              "      <td>0.525860</td>\n",
              "      <td>22.905161</td>\n",
              "      <td>0.469794</td>\n",
              "      <td>1.161075</td>\n",
              "      <td>0.616226</td>\n",
              "      <td>1.022606</td>\n",
              "      <td>0.612277</td>\n",
              "      <td>0.498835</td>\n",
              "    </tr>\n",
              "    <tr>\n",
              "      <th>min</th>\n",
              "      <td>29.000000</td>\n",
              "      <td>0.000000</td>\n",
              "      <td>0.000000</td>\n",
              "      <td>94.000000</td>\n",
              "      <td>126.000000</td>\n",
              "      <td>0.000000</td>\n",
              "      <td>0.000000</td>\n",
              "      <td>71.000000</td>\n",
              "      <td>0.000000</td>\n",
              "      <td>0.000000</td>\n",
              "      <td>0.000000</td>\n",
              "      <td>0.000000</td>\n",
              "      <td>0.000000</td>\n",
              "      <td>0.000000</td>\n",
              "    </tr>\n",
              "    <tr>\n",
              "      <th>25%</th>\n",
              "      <td>47.500000</td>\n",
              "      <td>0.000000</td>\n",
              "      <td>0.000000</td>\n",
              "      <td>120.000000</td>\n",
              "      <td>211.000000</td>\n",
              "      <td>0.000000</td>\n",
              "      <td>0.000000</td>\n",
              "      <td>133.500000</td>\n",
              "      <td>0.000000</td>\n",
              "      <td>0.000000</td>\n",
              "      <td>1.000000</td>\n",
              "      <td>0.000000</td>\n",
              "      <td>2.000000</td>\n",
              "      <td>0.000000</td>\n",
              "    </tr>\n",
              "    <tr>\n",
              "      <th>50%</th>\n",
              "      <td>55.000000</td>\n",
              "      <td>1.000000</td>\n",
              "      <td>1.000000</td>\n",
              "      <td>130.000000</td>\n",
              "      <td>240.000000</td>\n",
              "      <td>0.000000</td>\n",
              "      <td>1.000000</td>\n",
              "      <td>153.000000</td>\n",
              "      <td>0.000000</td>\n",
              "      <td>0.800000</td>\n",
              "      <td>1.000000</td>\n",
              "      <td>0.000000</td>\n",
              "      <td>2.000000</td>\n",
              "      <td>1.000000</td>\n",
              "    </tr>\n",
              "    <tr>\n",
              "      <th>75%</th>\n",
              "      <td>61.000000</td>\n",
              "      <td>1.000000</td>\n",
              "      <td>2.000000</td>\n",
              "      <td>140.000000</td>\n",
              "      <td>274.500000</td>\n",
              "      <td>0.000000</td>\n",
              "      <td>1.000000</td>\n",
              "      <td>166.000000</td>\n",
              "      <td>1.000000</td>\n",
              "      <td>1.600000</td>\n",
              "      <td>2.000000</td>\n",
              "      <td>1.000000</td>\n",
              "      <td>3.000000</td>\n",
              "      <td>1.000000</td>\n",
              "    </tr>\n",
              "    <tr>\n",
              "      <th>max</th>\n",
              "      <td>77.000000</td>\n",
              "      <td>1.000000</td>\n",
              "      <td>3.000000</td>\n",
              "      <td>200.000000</td>\n",
              "      <td>564.000000</td>\n",
              "      <td>1.000000</td>\n",
              "      <td>2.000000</td>\n",
              "      <td>202.000000</td>\n",
              "      <td>1.000000</td>\n",
              "      <td>6.200000</td>\n",
              "      <td>2.000000</td>\n",
              "      <td>4.000000</td>\n",
              "      <td>3.000000</td>\n",
              "      <td>1.000000</td>\n",
              "    </tr>\n",
              "  </tbody>\n",
              "</table>\n",
              "</div>"
            ],
            "text/plain": [
              "              age         sex          cp  ...          ca        thal      target\n",
              "count  303.000000  303.000000  303.000000  ...  303.000000  303.000000  303.000000\n",
              "mean    54.366337    0.683168    0.966997  ...    0.729373    2.313531    0.544554\n",
              "std      9.082101    0.466011    1.032052  ...    1.022606    0.612277    0.498835\n",
              "min     29.000000    0.000000    0.000000  ...    0.000000    0.000000    0.000000\n",
              "25%     47.500000    0.000000    0.000000  ...    0.000000    2.000000    0.000000\n",
              "50%     55.000000    1.000000    1.000000  ...    0.000000    2.000000    1.000000\n",
              "75%     61.000000    1.000000    2.000000  ...    1.000000    3.000000    1.000000\n",
              "max     77.000000    1.000000    3.000000  ...    4.000000    3.000000    1.000000\n",
              "\n",
              "[8 rows x 14 columns]"
            ]
          },
          "metadata": {},
          "execution_count": 65
        }
      ]
    },
    {
      "cell_type": "markdown",
      "metadata": {
        "id": "Zb-V4kfQK45M"
      },
      "source": [
        "Verificação de valores nulos"
      ]
    },
    {
      "cell_type": "code",
      "metadata": {
        "colab": {
          "base_uri": "https://localhost:8080/"
        },
        "id": "5azRHxNbfKS7",
        "outputId": "e7cf7d48-6b0a-4e30-a0d6-6557a8902c00"
      },
      "source": [
        "df.isnull().sum()"
      ],
      "execution_count": 66,
      "outputs": [
        {
          "output_type": "execute_result",
          "data": {
            "text/plain": [
              "age         0\n",
              "sex         0\n",
              "cp          0\n",
              "trestbps    0\n",
              "chol        0\n",
              "fbs         0\n",
              "restecg     0\n",
              "thalach     0\n",
              "exang       0\n",
              "oldpeak     0\n",
              "slope       0\n",
              "ca          0\n",
              "thal        0\n",
              "target      0\n",
              "dtype: int64"
            ]
          },
          "metadata": {},
          "execution_count": 66
        }
      ]
    },
    {
      "cell_type": "markdown",
      "metadata": {
        "id": "8zfjchxyLa8I"
      },
      "source": [
        "Verificação do tamanho do dataset"
      ]
    },
    {
      "cell_type": "code",
      "metadata": {
        "colab": {
          "base_uri": "https://localhost:8080/"
        },
        "id": "aGyca1pGH_J0",
        "outputId": "8666c11e-7e0a-42f4-c7ac-97bf9ee0ae67"
      },
      "source": [
        "df.shape"
      ],
      "execution_count": 67,
      "outputs": [
        {
          "output_type": "execute_result",
          "data": {
            "text/plain": [
              "(303, 14)"
            ]
          },
          "metadata": {},
          "execution_count": 67
        }
      ]
    },
    {
      "cell_type": "markdown",
      "metadata": {
        "id": "Ey-Xd_UdLc_m"
      },
      "source": [
        ""
      ]
    },
    {
      "cell_type": "code",
      "metadata": {
        "colab": {
          "base_uri": "https://localhost:8080/",
          "height": 350
        },
        "id": "A6ZGP00G-2Di",
        "outputId": "5a0d4b75-353d-4513-f7f1-4049b52b4dd8"
      },
      "source": [
        "sns.countplot(df['target'])"
      ],
      "execution_count": 68,
      "outputs": [
        {
          "output_type": "stream",
          "name": "stderr",
          "text": [
            "/usr/local/lib/python3.7/dist-packages/seaborn/_decorators.py:43: FutureWarning: Pass the following variable as a keyword arg: x. From version 0.12, the only valid positional argument will be `data`, and passing other arguments without an explicit keyword will result in an error or misinterpretation.\n",
            "  FutureWarning\n"
          ]
        },
        {
          "output_type": "execute_result",
          "data": {
            "text/plain": [
              "<matplotlib.axes._subplots.AxesSubplot at 0x7f3a9eeb9cd0>"
            ]
          },
          "metadata": {},
          "execution_count": 68
        },
        {
          "output_type": "display_data",
          "data": {
            "image/png": "[encoded data removed]",
            "text/plain": [
              "<Figure size 432x288 with 1 Axes>"
            ]
          },
          "metadata": {
            "needs_background": "light"
          }
        }
      ]
    },
    {
      "cell_type": "markdown",
      "metadata": {
        "id": "vQNCJRqsKtmk"
      },
      "source": [
        "Segue abaixo a distribuição de algumas variáveis contínuas, verificando visualmente a normalidade de algumas dessas variáveis"
      ]
    },
    {
      "cell_type": "code",
      "metadata": {
        "colab": {
          "base_uri": "https://localhost:8080/",
          "height": 336
        },
        "id": "_oVQ6UEK_d_b",
        "outputId": "2ba844d6-9021-4e10-99b8-be90666a5b1c"
      },
      "source": [
        "sns.distplot(x=df['age'])"
      ],
      "execution_count": 69,
      "outputs": [
        {
          "output_type": "stream",
          "name": "stderr",
          "text": [
            "/usr/local/lib/python3.7/dist-packages/seaborn/distributions.py:2619: FutureWarning: `distplot` is a deprecated function and will be removed in a future version. Please adapt your code to use either `displot` (a figure-level function with similar flexibility) or `histplot` (an axes-level function for histograms).\n",
            "  warnings.warn(msg, FutureWarning)\n"
          ]
        },
        {
          "output_type": "execute_result",
          "data": {
            "text/plain": [
              "<matplotlib.axes._subplots.AxesSubplot at 0x7f3a9eeb9fd0>"
            ]
          },
          "metadata": {},
          "execution_count": 69
        },
        {
          "output_type": "display_data",
          "data": {
            "image/png": "[encoded data removed]",
            "text/plain": [
              "<Figure size 432x288 with 1 Axes>"
            ]
          },
          "metadata": {
            "needs_background": "light"
          }
        }
      ]
    },
    {
      "cell_type": "code",
      "metadata": {
        "colab": {
          "base_uri": "https://localhost:8080/",
          "height": 336
        },
        "id": "FU52dCn_JhCf",
        "outputId": "b2bea738-5259-43c1-c8d1-19a0a33aaea6"
      },
      "source": [
        "sns.distplot(x=df['trestbps'])"
      ],
      "execution_count": 70,
      "outputs": [
        {
          "output_type": "stream",
          "name": "stderr",
          "text": [
            "/usr/local/lib/python3.7/dist-packages/seaborn/distributions.py:2619: FutureWarning: `distplot` is a deprecated function and will be removed in a future version. Please adapt your code to use either `displot` (a figure-level function with similar flexibility) or `histplot` (an axes-level function for histograms).\n",
            "  warnings.warn(msg, FutureWarning)\n"
          ]
        },
        {
          "output_type": "execute_result",
          "data": {
            "text/plain": [
              "<matplotlib.axes._subplots.AxesSubplot at 0x7f3a9e5a4d50>"
            ]
          },
          "metadata": {},
          "execution_count": 70
        },
        {
          "output_type": "display_data",
          "data": {
            "image/png": "[encoded data removed]",
            "text/plain": [
              "<Figure size 432x288 with 1 Axes>"
            ]
          },
          "metadata": {
            "needs_background": "light"
          }
        }
      ]
    },
    {
      "cell_type": "code",
      "metadata": {
        "colab": {
          "base_uri": "https://localhost:8080/",
          "height": 336
        },
        "id": "wPvJWTFVJ--L",
        "outputId": "9a35e9bd-3b30-47eb-b76d-ab0c1902638c"
      },
      "source": [
        "sns.distplot(x=df['chol'])"
      ],
      "execution_count": 71,
      "outputs": [
        {
          "output_type": "stream",
          "name": "stderr",
          "text": [
            "/usr/local/lib/python3.7/dist-packages/seaborn/distributions.py:2619: FutureWarning: `distplot` is a deprecated function and will be removed in a future version. Please adapt your code to use either `displot` (a figure-level function with similar flexibility) or `histplot` (an axes-level function for histograms).\n",
            "  warnings.warn(msg, FutureWarning)\n"
          ]
        },
        {
          "output_type": "execute_result",
          "data": {
            "text/plain": [
              "<matplotlib.axes._subplots.AxesSubplot at 0x7f3a9e4ca210>"
            ]
          },
          "metadata": {},
          "execution_count": 71
        },
        {
          "output_type": "display_data",
          "data": {
            "image/png": "[encoded data removed]",
            "text/plain": [
              "<Figure size 432x288 with 1 Axes>"
            ]
          },
          "metadata": {
            "needs_background": "light"
          }
        }
      ]
    },
    {
      "cell_type": "code",
      "metadata": {
        "colab": {
          "base_uri": "https://localhost:8080/",
          "height": 336
        },
        "id": "Z7xTlE-NJvTw",
        "outputId": "1aa6b364-e9f5-41d6-e738-55b12428c6df"
      },
      "source": [
        "sns.distplot(x=df['thalach'])"
      ],
      "execution_count": 72,
      "outputs": [
        {
          "output_type": "stream",
          "name": "stderr",
          "text": [
            "/usr/local/lib/python3.7/dist-packages/seaborn/distributions.py:2619: FutureWarning: `distplot` is a deprecated function and will be removed in a future version. Please adapt your code to use either `displot` (a figure-level function with similar flexibility) or `histplot` (an axes-level function for histograms).\n",
            "  warnings.warn(msg, FutureWarning)\n"
          ]
        },
        {
          "output_type": "execute_result",
          "data": {
            "text/plain": [
              "<matplotlib.axes._subplots.AxesSubplot at 0x7f3a9e3fc390>"
            ]
          },
          "metadata": {},
          "execution_count": 72
        },
        {
          "output_type": "display_data",
          "data": {
            "image/png": "[encoded data removed]",
            "text/plain": [
              "<Figure size 432x288 with 1 Axes>"
            ]
          },
          "metadata": {
            "needs_background": "light"
          }
        }
      ]
    },
    {
      "cell_type": "code",
      "metadata": {
        "colab": {
          "base_uri": "https://localhost:8080/",
          "height": 337
        },
        "id": "9DLbbIV-Kcsd",
        "outputId": "17f323fc-d65a-4932-95b2-e1642f605d9a"
      },
      "source": [
        "sns.distplot(x=df['oldpeak'])"
      ],
      "execution_count": 73,
      "outputs": [
        {
          "output_type": "stream",
          "name": "stderr",
          "text": [
            "/usr/local/lib/python3.7/dist-packages/seaborn/distributions.py:2619: FutureWarning: `distplot` is a deprecated function and will be removed in a future version. Please adapt your code to use either `displot` (a figure-level function with similar flexibility) or `histplot` (an axes-level function for histograms).\n",
            "  warnings.warn(msg, FutureWarning)\n"
          ]
        },
        {
          "output_type": "execute_result",
          "data": {
            "text/plain": [
              "<matplotlib.axes._subplots.AxesSubplot at 0x7f3a9e37ee90>"
            ]
          },
          "metadata": {},
          "execution_count": 73
        },
        {
          "output_type": "display_data",
          "data": {
            "image/png": "[encoded data removed]",
            "text/plain": [
              "<Figure size 432x288 with 1 Axes>"
            ]
          },
          "metadata": {
            "needs_background": "light"
          }
        }
      ]
    },
    {
      "cell_type": "markdown",
      "metadata": {
        "id": "1P7jbKqwMJqy"
      },
      "source": [
        "Verificaçao inicial se alguma variável tem alguma correlação forte com a variável target"
      ]
    },
    {
      "cell_type": "code",
      "metadata": {
        "colab": {
          "base_uri": "https://localhost:8080/",
          "height": 612
        },
        "id": "x3xWChfNhFfn",
        "outputId": "a8b67b0f-8259-427f-82be-4e5d5e7db61e"
      },
      "source": [
        "plt.figure(figsize=(12,10))\n",
        "sns.heatmap(df.corr(),annot=True)"
      ],
      "execution_count": 74,
      "outputs": [
        {
          "output_type": "execute_result",
          "data": {
            "text/plain": [
              "<matplotlib.axes._subplots.AxesSubplot at 0x7f3a9e37eb50>"
            ]
          },
          "metadata": {},
          "execution_count": 74
        },
        {
          "output_type": "display_data",
          "data": {
            "image/png": "[encoded data removed]",
            "text/plain": [
              "<Figure size 864x720 with 2 Axes>"
            ]
          },
          "metadata": {
            "needs_background": "light"
          }
        }
      ]
    },
    {
      "cell_type": "markdown",
      "metadata": {
        "id": "pT5rt_o2OYy7"
      },
      "source": [
        "\"Dummyficando\" as variáveis categóricas \"cp\" \"thal\" e \"slope\", para que elas sejam definidas como presença ou ausência e seu valor numérico não impacte no resultado"
      ]
    },
    {
      "cell_type": "code",
      "metadata": {
        "id": "BPHfpeWEheK9"
      },
      "source": [
        "dfa = pd.get_dummies(df['cp'], prefix = \"cp\")\n",
        "dfb = pd.get_dummies(df['thal'], prefix = \"thal\")\n",
        "dfc = pd.get_dummies(df['slope'], prefix = \"slope\")"
      ],
      "execution_count": 75,
      "outputs": []
    },
    {
      "cell_type": "code",
      "metadata": {
        "colab": {
          "base_uri": "https://localhost:8080/",
          "height": 204
        },
        "id": "Q5ZMB-29kike",
        "outputId": "9c1f6973-a97e-463e-ee4d-5aed869ae9d6"
      },
      "source": [
        "#Agregar dummies ao dataset original e dropar as colunas \"cp\" \"thal\" e \"slope\"\n",
        "dfs = [df, dfa, dfb, dfc]\n",
        "df_f = pd.concat(dfs, axis = 1).drop(columns = ['cp', 'thal', 'slope'])\n",
        "df_f.sample(5)"
      ],
      "execution_count": 76,
      "outputs": [
        {
          "output_type": "execute_result",
          "data": {
            "text/html": [
              "<div>\n",
              "<style scoped>\n",
              "    .dataframe tbody tr th:only-of-type {\n",
              "        vertical-align: middle;\n",
              "    }\n",
              "\n",
              "    .dataframe tbody tr th {\n",
              "        vertical-align: top;\n",
              "    }\n",
              "\n",
              "    .dataframe thead th {\n",
              "        text-align: right;\n",
              "    }\n",
              "</style>\n",
              "<table border=\"1\" class=\"dataframe\">\n",
              "  <thead>\n",
              "    <tr style=\"text-align: right;\">\n",
              "      <th></th>\n",
              "      <th>age</th>\n",
              "      <th>sex</th>\n",
              "      <th>trestbps</th>\n",
              "      <th>chol</th>\n",
              "      <th>fbs</th>\n",
              "      <th>restecg</th>\n",
              "      <th>thalach</th>\n",
              "      <th>exang</th>\n",
              "      <th>oldpeak</th>\n",
              "      <th>ca</th>\n",
              "      <th>target</th>\n",
              "      <th>cp_0</th>\n",
              "      <th>cp_1</th>\n",
              "      <th>cp_2</th>\n",
              "      <th>cp_3</th>\n",
              "      <th>thal_0</th>\n",
              "      <th>thal_1</th>\n",
              "      <th>thal_2</th>\n",
              "      <th>thal_3</th>\n",
              "      <th>slope_0</th>\n",
              "      <th>slope_1</th>\n",
              "      <th>slope_2</th>\n",
              "    </tr>\n",
              "  </thead>\n",
              "  <tbody>\n",
              "    <tr>\n",
              "      <th>88</th>\n",
              "      <td>54</td>\n",
              "      <td>0</td>\n",
              "      <td>110</td>\n",
              "      <td>214</td>\n",
              "      <td>0</td>\n",
              "      <td>1</td>\n",
              "      <td>158</td>\n",
              "      <td>0</td>\n",
              "      <td>1.6</td>\n",
              "      <td>0</td>\n",
              "      <td>1</td>\n",
              "      <td>0</td>\n",
              "      <td>0</td>\n",
              "      <td>1</td>\n",
              "      <td>0</td>\n",
              "      <td>0</td>\n",
              "      <td>0</td>\n",
              "      <td>1</td>\n",
              "      <td>0</td>\n",
              "      <td>0</td>\n",
              "      <td>1</td>\n",
              "      <td>0</td>\n",
              "    </tr>\n",
              "    <tr>\n",
              "      <th>203</th>\n",
              "      <td>68</td>\n",
              "      <td>1</td>\n",
              "      <td>180</td>\n",
              "      <td>274</td>\n",
              "      <td>1</td>\n",
              "      <td>0</td>\n",
              "      <td>150</td>\n",
              "      <td>1</td>\n",
              "      <td>1.6</td>\n",
              "      <td>0</td>\n",
              "      <td>0</td>\n",
              "      <td>0</td>\n",
              "      <td>0</td>\n",
              "      <td>1</td>\n",
              "      <td>0</td>\n",
              "      <td>0</td>\n",
              "      <td>0</td>\n",
              "      <td>0</td>\n",
              "      <td>1</td>\n",
              "      <td>0</td>\n",
              "      <td>1</td>\n",
              "      <td>0</td>\n",
              "    </tr>\n",
              "    <tr>\n",
              "      <th>73</th>\n",
              "      <td>51</td>\n",
              "      <td>1</td>\n",
              "      <td>140</td>\n",
              "      <td>261</td>\n",
              "      <td>0</td>\n",
              "      <td>0</td>\n",
              "      <td>186</td>\n",
              "      <td>1</td>\n",
              "      <td>0.0</td>\n",
              "      <td>0</td>\n",
              "      <td>1</td>\n",
              "      <td>1</td>\n",
              "      <td>0</td>\n",
              "      <td>0</td>\n",
              "      <td>0</td>\n",
              "      <td>0</td>\n",
              "      <td>0</td>\n",
              "      <td>1</td>\n",
              "      <td>0</td>\n",
              "      <td>0</td>\n",
              "      <td>0</td>\n",
              "      <td>1</td>\n",
              "    </tr>\n",
              "    <tr>\n",
              "      <th>214</th>\n",
              "      <td>56</td>\n",
              "      <td>1</td>\n",
              "      <td>125</td>\n",
              "      <td>249</td>\n",
              "      <td>1</td>\n",
              "      <td>0</td>\n",
              "      <td>144</td>\n",
              "      <td>1</td>\n",
              "      <td>1.2</td>\n",
              "      <td>1</td>\n",
              "      <td>0</td>\n",
              "      <td>1</td>\n",
              "      <td>0</td>\n",
              "      <td>0</td>\n",
              "      <td>0</td>\n",
              "      <td>0</td>\n",
              "      <td>0</td>\n",
              "      <td>1</td>\n",
              "      <td>0</td>\n",
              "      <td>0</td>\n",
              "      <td>1</td>\n",
              "      <td>0</td>\n",
              "    </tr>\n",
              "    <tr>\n",
              "      <th>289</th>\n",
              "      <td>55</td>\n",
              "      <td>0</td>\n",
              "      <td>128</td>\n",
              "      <td>205</td>\n",
              "      <td>0</td>\n",
              "      <td>2</td>\n",
              "      <td>130</td>\n",
              "      <td>1</td>\n",
              "      <td>2.0</td>\n",
              "      <td>1</td>\n",
              "      <td>0</td>\n",
              "      <td>1</td>\n",
              "      <td>0</td>\n",
              "      <td>0</td>\n",
              "      <td>0</td>\n",
              "      <td>0</td>\n",
              "      <td>0</td>\n",
              "      <td>0</td>\n",
              "      <td>1</td>\n",
              "      <td>0</td>\n",
              "      <td>1</td>\n",
              "      <td>0</td>\n",
              "    </tr>\n",
              "  </tbody>\n",
              "</table>\n",
              "</div>"
            ],
            "text/plain": [
              "     age  sex  trestbps  chol  fbs  ...  thal_2  thal_3  slope_0  slope_1  slope_2\n",
              "88    54    0       110   214    0  ...       1       0        0        1        0\n",
              "203   68    1       180   274    1  ...       0       1        0        1        0\n",
              "73    51    1       140   261    0  ...       1       0        0        0        1\n",
              "214   56    1       125   249    1  ...       1       0        0        1        0\n",
              "289   55    0       128   205    0  ...       0       1        0        1        0\n",
              "\n",
              "[5 rows x 22 columns]"
            ]
          },
          "metadata": {},
          "execution_count": 76
        }
      ]
    },
    {
      "cell_type": "markdown",
      "metadata": {
        "id": "IutX0ZlIISm6"
      },
      "source": [
        "#3. Pré processamento dos dados"
      ]
    },
    {
      "cell_type": "markdown",
      "metadata": {
        "id": "BuFwTHW5Ooip"
      },
      "source": [
        "Dividindo a base em treino e teste\n"
      ]
    },
    {
      "cell_type": "code",
      "metadata": {
        "id": "NY5kkrFhISXa"
      },
      "source": [
        "from sklearn.model_selection import train_test_split\n",
        "\n",
        "X = df_f.drop(columns=['target'])\n",
        "Y = df_f['target']\n",
        "\n",
        "X_train, X_test, y_train, y_test = train_test_split(X, Y, test_size=0.2, random_state=7)"
      ],
      "execution_count": 77,
      "outputs": []
    },
    {
      "cell_type": "code",
      "metadata": {
        "colab": {
          "base_uri": "https://localhost:8080/"
        },
        "id": "HAe7cua4kxve",
        "outputId": "4b520b17-e31d-444a-ace7-d766e6806afa"
      },
      "source": [
        "print(f\"Shape X_train: {X_train.shape}\")\n",
        "print(f\"Shape y_train: {y_train.shape}\")\n",
        "print(f\"Shape X_test: {X_test.shape}\")\n",
        "print(f\"Shape y_test: {y_test.shape}\")"
      ],
      "execution_count": 78,
      "outputs": [
        {
          "output_type": "stream",
          "name": "stdout",
          "text": [
            "Shape X_train: (242, 21)\n",
            "Shape y_train: (242,)\n",
            "Shape X_test: (61, 21)\n",
            "Shape y_test: (61,)\n"
          ]
        }
      ]
    },
    {
      "cell_type": "markdown",
      "metadata": {
        "id": "BeXfSIRcOAWY"
      },
      "source": [
        "Normalizando as variáveis para impedir que variáveis com escalas maiores (centenas,milhares) impactem mais na classificação, padronizando o desvio padrão de cada variável para 1"
      ]
    },
    {
      "cell_type": "code",
      "metadata": {
        "id": "O0x4YVnum_2t"
      },
      "source": [
        "# Normalização de variáveis\n",
        "from sklearn.preprocessing import StandardScaler\n",
        "\n",
        "scaler = StandardScaler()\n",
        "scaler.fit(X_train)\n",
        "\n",
        "X_train_scaled = scaler.transform(X_train)\n",
        "X_test_scaled = scaler.transform(X_test)\n",
        "\n",
        "# Transformanda para dataframe para visualização\n",
        "X_train = pd.DataFrame(X_train_scaled,columns = X_train.columns)\n",
        "X_test = pd.DataFrame(X_test_scaled,columns = X_test.columns)"
      ],
      "execution_count": 79,
      "outputs": []
    },
    {
      "cell_type": "code",
      "metadata": {
        "colab": {
          "base_uri": "https://localhost:8080/",
          "height": 204
        },
        "id": "mFhKg6c0I_ZF",
        "outputId": "2b2d2cd4-b311-44e2-e659-f71d344c68fb"
      },
      "source": [
        "X_train.head()"
      ],
      "execution_count": 80,
      "outputs": [
        {
          "output_type": "execute_result",
          "data": {
            "text/html": [
              "<div>\n",
              "<style scoped>\n",
              "    .dataframe tbody tr th:only-of-type {\n",
              "        vertical-align: middle;\n",
              "    }\n",
              "\n",
              "    .dataframe tbody tr th {\n",
              "        vertical-align: top;\n",
              "    }\n",
              "\n",
              "    .dataframe thead th {\n",
              "        text-align: right;\n",
              "    }\n",
              "</style>\n",
              "<table border=\"1\" class=\"dataframe\">\n",
              "  <thead>\n",
              "    <tr style=\"text-align: right;\">\n",
              "      <th></th>\n",
              "      <th>age</th>\n",
              "      <th>sex</th>\n",
              "      <th>trestbps</th>\n",
              "      <th>chol</th>\n",
              "      <th>fbs</th>\n",
              "      <th>restecg</th>\n",
              "      <th>thalach</th>\n",
              "      <th>exang</th>\n",
              "      <th>oldpeak</th>\n",
              "      <th>ca</th>\n",
              "      <th>cp_0</th>\n",
              "      <th>cp_1</th>\n",
              "      <th>cp_2</th>\n",
              "      <th>cp_3</th>\n",
              "      <th>thal_0</th>\n",
              "      <th>thal_1</th>\n",
              "      <th>thal_2</th>\n",
              "      <th>thal_3</th>\n",
              "      <th>slope_0</th>\n",
              "      <th>slope_1</th>\n",
              "      <th>slope_2</th>\n",
              "    </tr>\n",
              "  </thead>\n",
              "  <tbody>\n",
              "    <tr>\n",
              "      <th>0</th>\n",
              "      <td>-0.701600</td>\n",
              "      <td>0.702728</td>\n",
              "      <td>-0.458142</td>\n",
              "      <td>0.488861</td>\n",
              "      <td>-0.411196</td>\n",
              "      <td>-0.955442</td>\n",
              "      <td>0.751776</td>\n",
              "      <td>-0.715891</td>\n",
              "      <td>-0.478221</td>\n",
              "      <td>-0.698232</td>\n",
              "      <td>1.050880</td>\n",
              "      <td>-0.431595</td>\n",
              "      <td>-0.625144</td>\n",
              "      <td>-0.308257</td>\n",
              "      <td>-0.064416</td>\n",
              "      <td>-0.257059</td>\n",
              "      <td>-1.095445</td>\n",
              "      <td>1.254778</td>\n",
              "      <td>-0.283473</td>\n",
              "      <td>1.068454</td>\n",
              "      <td>-0.920504</td>\n",
              "    </tr>\n",
              "    <tr>\n",
              "      <th>1</th>\n",
              "      <td>-0.593524</td>\n",
              "      <td>0.702728</td>\n",
              "      <td>-0.804612</td>\n",
              "      <td>-1.782728</td>\n",
              "      <td>-0.411196</td>\n",
              "      <td>-0.955442</td>\n",
              "      <td>-1.029230</td>\n",
              "      <td>-0.715891</td>\n",
              "      <td>-0.219125</td>\n",
              "      <td>2.165702</td>\n",
              "      <td>-0.951584</td>\n",
              "      <td>-0.431595</td>\n",
              "      <td>1.599632</td>\n",
              "      <td>-0.308257</td>\n",
              "      <td>-0.064416</td>\n",
              "      <td>-0.257059</td>\n",
              "      <td>0.912871</td>\n",
              "      <td>-0.796954</td>\n",
              "      <td>-0.283473</td>\n",
              "      <td>-0.935932</td>\n",
              "      <td>1.086361</td>\n",
              "    </tr>\n",
              "    <tr>\n",
              "      <th>2</th>\n",
              "      <td>-0.053145</td>\n",
              "      <td>0.702728</td>\n",
              "      <td>-0.573632</td>\n",
              "      <td>0.706934</td>\n",
              "      <td>-0.411196</td>\n",
              "      <td>-0.955442</td>\n",
              "      <td>-1.474482</td>\n",
              "      <td>1.396861</td>\n",
              "      <td>1.853642</td>\n",
              "      <td>1.211057</td>\n",
              "      <td>1.050880</td>\n",
              "      <td>-0.431595</td>\n",
              "      <td>-0.625144</td>\n",
              "      <td>-0.308257</td>\n",
              "      <td>-0.064416</td>\n",
              "      <td>-0.257059</td>\n",
              "      <td>0.912871</td>\n",
              "      <td>-0.796954</td>\n",
              "      <td>-0.283473</td>\n",
              "      <td>1.068454</td>\n",
              "      <td>-0.920504</td>\n",
              "    </tr>\n",
              "    <tr>\n",
              "      <th>3</th>\n",
              "      <td>1.243766</td>\n",
              "      <td>0.702728</td>\n",
              "      <td>1.620678</td>\n",
              "      <td>-0.347084</td>\n",
              "      <td>-0.411196</td>\n",
              "      <td>-0.955442</td>\n",
              "      <td>-0.494928</td>\n",
              "      <td>-0.715891</td>\n",
              "      <td>1.076355</td>\n",
              "      <td>-0.698232</td>\n",
              "      <td>1.050880</td>\n",
              "      <td>-0.431595</td>\n",
              "      <td>-0.625144</td>\n",
              "      <td>-0.308257</td>\n",
              "      <td>-0.064416</td>\n",
              "      <td>3.890159</td>\n",
              "      <td>-1.095445</td>\n",
              "      <td>-0.796954</td>\n",
              "      <td>-0.283473</td>\n",
              "      <td>-0.935932</td>\n",
              "      <td>1.086361</td>\n",
              "    </tr>\n",
              "    <tr>\n",
              "      <th>4</th>\n",
              "      <td>0.919538</td>\n",
              "      <td>0.702728</td>\n",
              "      <td>-0.111672</td>\n",
              "      <td>0.125407</td>\n",
              "      <td>-0.411196</td>\n",
              "      <td>-0.955442</td>\n",
              "      <td>-0.094202</td>\n",
              "      <td>-0.715891</td>\n",
              "      <td>0.299067</td>\n",
              "      <td>0.256413</td>\n",
              "      <td>1.050880</td>\n",
              "      <td>-0.431595</td>\n",
              "      <td>-0.625144</td>\n",
              "      <td>-0.308257</td>\n",
              "      <td>-0.064416</td>\n",
              "      <td>-0.257059</td>\n",
              "      <td>-1.095445</td>\n",
              "      <td>1.254778</td>\n",
              "      <td>-0.283473</td>\n",
              "      <td>1.068454</td>\n",
              "      <td>-0.920504</td>\n",
              "    </tr>\n",
              "  </tbody>\n",
              "</table>\n",
              "</div>"
            ],
            "text/plain": [
              "        age       sex  trestbps  ...   slope_0   slope_1   slope_2\n",
              "0 -0.701600  0.702728 -0.458142  ... -0.283473  1.068454 -0.920504\n",
              "1 -0.593524  0.702728 -0.804612  ... -0.283473 -0.935932  1.086361\n",
              "2 -0.053145  0.702728 -0.573632  ... -0.283473  1.068454 -0.920504\n",
              "3  1.243766  0.702728  1.620678  ... -0.283473 -0.935932  1.086361\n",
              "4  0.919538  0.702728 -0.111672  ... -0.283473  1.068454 -0.920504\n",
              "\n",
              "[5 rows x 21 columns]"
            ]
          },
          "metadata": {},
          "execution_count": 80
        }
      ]
    },
    {
      "cell_type": "code",
      "metadata": {
        "colab": {
          "base_uri": "https://localhost:8080/",
          "height": 297
        },
        "id": "EAAlkLMgOKqs",
        "outputId": "d5c904c0-f23d-4b75-9f0d-879a143e20ec"
      },
      "source": [
        "X_train.describe().round(2)"
      ],
      "execution_count": 81,
      "outputs": [
        {
          "output_type": "execute_result",
          "data": {
            "text/html": [
              "<div>\n",
              "<style scoped>\n",
              "    .dataframe tbody tr th:only-of-type {\n",
              "        vertical-align: middle;\n",
              "    }\n",
              "\n",
              "    .dataframe tbody tr th {\n",
              "        vertical-align: top;\n",
              "    }\n",
              "\n",
              "    .dataframe thead th {\n",
              "        text-align: right;\n",
              "    }\n",
              "</style>\n",
              "<table border=\"1\" class=\"dataframe\">\n",
              "  <thead>\n",
              "    <tr style=\"text-align: right;\">\n",
              "      <th></th>\n",
              "      <th>age</th>\n",
              "      <th>sex</th>\n",
              "      <th>trestbps</th>\n",
              "      <th>chol</th>\n",
              "      <th>fbs</th>\n",
              "      <th>restecg</th>\n",
              "      <th>thalach</th>\n",
              "      <th>exang</th>\n",
              "      <th>oldpeak</th>\n",
              "      <th>ca</th>\n",
              "      <th>cp_0</th>\n",
              "      <th>cp_1</th>\n",
              "      <th>cp_2</th>\n",
              "      <th>cp_3</th>\n",
              "      <th>thal_0</th>\n",
              "      <th>thal_1</th>\n",
              "      <th>thal_2</th>\n",
              "      <th>thal_3</th>\n",
              "      <th>slope_0</th>\n",
              "      <th>slope_1</th>\n",
              "      <th>slope_2</th>\n",
              "    </tr>\n",
              "  </thead>\n",
              "  <tbody>\n",
              "    <tr>\n",
              "      <th>count</th>\n",
              "      <td>242.00</td>\n",
              "      <td>242.00</td>\n",
              "      <td>242.00</td>\n",
              "      <td>242.00</td>\n",
              "      <td>242.00</td>\n",
              "      <td>242.00</td>\n",
              "      <td>242.00</td>\n",
              "      <td>242.00</td>\n",
              "      <td>242.00</td>\n",
              "      <td>242.00</td>\n",
              "      <td>242.00</td>\n",
              "      <td>242.00</td>\n",
              "      <td>242.00</td>\n",
              "      <td>242.00</td>\n",
              "      <td>242.00</td>\n",
              "      <td>242.00</td>\n",
              "      <td>242.00</td>\n",
              "      <td>242.00</td>\n",
              "      <td>242.00</td>\n",
              "      <td>242.00</td>\n",
              "      <td>242.00</td>\n",
              "    </tr>\n",
              "    <tr>\n",
              "      <th>mean</th>\n",
              "      <td>0.00</td>\n",
              "      <td>0.00</td>\n",
              "      <td>0.00</td>\n",
              "      <td>0.00</td>\n",
              "      <td>-0.00</td>\n",
              "      <td>0.00</td>\n",
              "      <td>0.00</td>\n",
              "      <td>-0.00</td>\n",
              "      <td>-0.00</td>\n",
              "      <td>-0.00</td>\n",
              "      <td>-0.00</td>\n",
              "      <td>0.00</td>\n",
              "      <td>-0.00</td>\n",
              "      <td>-0.00</td>\n",
              "      <td>0.00</td>\n",
              "      <td>-0.00</td>\n",
              "      <td>0.00</td>\n",
              "      <td>-0.00</td>\n",
              "      <td>-0.00</td>\n",
              "      <td>-0.00</td>\n",
              "      <td>-0.00</td>\n",
              "    </tr>\n",
              "    <tr>\n",
              "      <th>std</th>\n",
              "      <td>1.00</td>\n",
              "      <td>1.00</td>\n",
              "      <td>1.00</td>\n",
              "      <td>1.00</td>\n",
              "      <td>1.00</td>\n",
              "      <td>1.00</td>\n",
              "      <td>1.00</td>\n",
              "      <td>1.00</td>\n",
              "      <td>1.00</td>\n",
              "      <td>1.00</td>\n",
              "      <td>1.00</td>\n",
              "      <td>1.00</td>\n",
              "      <td>1.00</td>\n",
              "      <td>1.00</td>\n",
              "      <td>1.00</td>\n",
              "      <td>1.00</td>\n",
              "      <td>1.00</td>\n",
              "      <td>1.00</td>\n",
              "      <td>1.00</td>\n",
              "      <td>1.00</td>\n",
              "      <td>1.00</td>\n",
              "    </tr>\n",
              "    <tr>\n",
              "      <th>min</th>\n",
              "      <td>-2.76</td>\n",
              "      <td>-1.42</td>\n",
              "      <td>-2.19</td>\n",
              "      <td>-2.20</td>\n",
              "      <td>-0.41</td>\n",
              "      <td>-0.96</td>\n",
              "      <td>-2.63</td>\n",
              "      <td>-0.72</td>\n",
              "      <td>-0.91</td>\n",
              "      <td>-0.70</td>\n",
              "      <td>-0.95</td>\n",
              "      <td>-0.43</td>\n",
              "      <td>-0.63</td>\n",
              "      <td>-0.31</td>\n",
              "      <td>-0.06</td>\n",
              "      <td>-0.26</td>\n",
              "      <td>-1.10</td>\n",
              "      <td>-0.80</td>\n",
              "      <td>-0.28</td>\n",
              "      <td>-0.94</td>\n",
              "      <td>-0.92</td>\n",
              "    </tr>\n",
              "    <tr>\n",
              "      <th>25%</th>\n",
              "      <td>-0.78</td>\n",
              "      <td>-1.42</td>\n",
              "      <td>-0.69</td>\n",
              "      <td>-0.68</td>\n",
              "      <td>-0.41</td>\n",
              "      <td>-0.96</td>\n",
              "      <td>-0.76</td>\n",
              "      <td>-0.72</td>\n",
              "      <td>-0.91</td>\n",
              "      <td>-0.70</td>\n",
              "      <td>-0.95</td>\n",
              "      <td>-0.43</td>\n",
              "      <td>-0.63</td>\n",
              "      <td>-0.31</td>\n",
              "      <td>-0.06</td>\n",
              "      <td>-0.26</td>\n",
              "      <td>-1.10</td>\n",
              "      <td>-0.80</td>\n",
              "      <td>-0.28</td>\n",
              "      <td>-0.94</td>\n",
              "      <td>-0.92</td>\n",
              "    </tr>\n",
              "    <tr>\n",
              "      <th>50%</th>\n",
              "      <td>0.05</td>\n",
              "      <td>0.70</td>\n",
              "      <td>-0.11</td>\n",
              "      <td>-0.11</td>\n",
              "      <td>-0.41</td>\n",
              "      <td>-0.96</td>\n",
              "      <td>0.13</td>\n",
              "      <td>-0.72</td>\n",
              "      <td>-0.22</td>\n",
              "      <td>-0.70</td>\n",
              "      <td>-0.95</td>\n",
              "      <td>-0.43</td>\n",
              "      <td>-0.63</td>\n",
              "      <td>-0.31</td>\n",
              "      <td>-0.06</td>\n",
              "      <td>-0.26</td>\n",
              "      <td>0.91</td>\n",
              "      <td>-0.80</td>\n",
              "      <td>-0.28</td>\n",
              "      <td>-0.94</td>\n",
              "      <td>-0.92</td>\n",
              "    </tr>\n",
              "    <tr>\n",
              "      <th>75%</th>\n",
              "      <td>0.81</td>\n",
              "      <td>0.70</td>\n",
              "      <td>0.47</td>\n",
              "      <td>0.54</td>\n",
              "      <td>-0.41</td>\n",
              "      <td>0.92</td>\n",
              "      <td>0.74</td>\n",
              "      <td>1.40</td>\n",
              "      <td>0.60</td>\n",
              "      <td>0.26</td>\n",
              "      <td>1.05</td>\n",
              "      <td>-0.43</td>\n",
              "      <td>1.60</td>\n",
              "      <td>-0.31</td>\n",
              "      <td>-0.06</td>\n",
              "      <td>-0.26</td>\n",
              "      <td>0.91</td>\n",
              "      <td>1.25</td>\n",
              "      <td>-0.28</td>\n",
              "      <td>1.07</td>\n",
              "      <td>1.09</td>\n",
              "    </tr>\n",
              "    <tr>\n",
              "      <th>max</th>\n",
              "      <td>2.43</td>\n",
              "      <td>0.70</td>\n",
              "      <td>3.47</td>\n",
              "      <td>5.76</td>\n",
              "      <td>2.43</td>\n",
              "      <td>2.80</td>\n",
              "      <td>2.35</td>\n",
              "      <td>1.40</td>\n",
              "      <td>4.44</td>\n",
              "      <td>3.12</td>\n",
              "      <td>1.05</td>\n",
              "      <td>2.32</td>\n",
              "      <td>1.60</td>\n",
              "      <td>3.24</td>\n",
              "      <td>15.52</td>\n",
              "      <td>3.89</td>\n",
              "      <td>0.91</td>\n",
              "      <td>1.25</td>\n",
              "      <td>3.53</td>\n",
              "      <td>1.07</td>\n",
              "      <td>1.09</td>\n",
              "    </tr>\n",
              "  </tbody>\n",
              "</table>\n",
              "</div>"
            ],
            "text/plain": [
              "          age     sex  trestbps    chol  ...  thal_3  slope_0  slope_1  slope_2\n",
              "count  242.00  242.00    242.00  242.00  ...  242.00   242.00   242.00   242.00\n",
              "mean     0.00    0.00      0.00    0.00  ...   -0.00    -0.00    -0.00    -0.00\n",
              "std      1.00    1.00      1.00    1.00  ...    1.00     1.00     1.00     1.00\n",
              "min     -2.76   -1.42     -2.19   -2.20  ...   -0.80    -0.28    -0.94    -0.92\n",
              "25%     -0.78   -1.42     -0.69   -0.68  ...   -0.80    -0.28    -0.94    -0.92\n",
              "50%      0.05    0.70     -0.11   -0.11  ...   -0.80    -0.28    -0.94    -0.92\n",
              "75%      0.81    0.70      0.47    0.54  ...    1.25    -0.28     1.07     1.09\n",
              "max      2.43    0.70      3.47    5.76  ...    1.25     3.53     1.07     1.09\n",
              "\n",
              "[8 rows x 21 columns]"
            ]
          },
          "metadata": {},
          "execution_count": 81
        }
      ]
    },
    {
      "cell_type": "markdown",
      "metadata": {
        "id": "bSIAEhOwNKQM"
      },
      "source": [
        "Abaixo vamos testar alguns modelos de classificação e verificar suas métricas de performance"
      ]
    },
    {
      "cell_type": "markdown",
      "metadata": {
        "id": "bTAENmwUJ6Uk"
      },
      "source": [
        "##3.1 Redes Neurais (MPL Classifier)"
      ]
    },
    {
      "cell_type": "code",
      "metadata": {
        "id": "tykffyIpJAqp"
      },
      "source": [
        "X_train = X_train.copy()\n",
        "X_test = X_test.copy()\n",
        "y_train = y_train.copy()\n",
        "y_test = y_test.copy()"
      ],
      "execution_count": 82,
      "outputs": []
    },
    {
      "cell_type": "code",
      "metadata": {
        "colab": {
          "base_uri": "https://localhost:8080/"
        },
        "id": "sQMUluJuKNbm",
        "outputId": "a3891a01-a3a4-479e-ef7d-2bac6a159fb1"
      },
      "source": [
        "from sklearn.neural_network import MLPClassifier\n",
        "from sklearn.metrics import f1_score, accuracy_score, precision_score, recall_score\n",
        "from sklearn.metrics import classification_report\n",
        "from sklearn.metrics import plot_confusion_matrix\n",
        "\n",
        "clf1 = MLPClassifier(hidden_layer_sizes=(100, 50, 20),activation='relu')\n",
        "clf1.fit(X_train,y_train)"
      ],
      "execution_count": 83,
      "outputs": [
        {
          "output_type": "execute_result",
          "data": {
            "text/plain": [
              "MLPClassifier(activation='relu', alpha=0.0001, batch_size='auto', beta_1=0.9,\n",
              "              beta_2=0.999, early_stopping=False, epsilon=1e-08,\n",
              "              hidden_layer_sizes=(100, 50, 20), learning_rate='constant',\n",
              "              learning_rate_init=0.001, max_fun=15000, max_iter=200,\n",
              "              momentum=0.9, n_iter_no_change=10, nesterovs_momentum=True,\n",
              "              power_t=0.5, random_state=None, shuffle=True, solver='adam',\n",
              "              tol=0.0001, validation_fraction=0.1, verbose=False,\n",
              "              warm_start=False)"
            ]
          },
          "metadata": {},
          "execution_count": 83
        }
      ]
    },
    {
      "cell_type": "code",
      "metadata": {
        "colab": {
          "base_uri": "https://localhost:8080/"
        },
        "id": "hpDiJAKKKowu",
        "outputId": "dd7ae121-9f38-4cc8-9634-b7ead30bc37a"
      },
      "source": [
        "y_pred_MPL = clf1.predict(X_test)\n",
        "f1_MPL = round(f1_score(y_test, y_pred_MPL, average='macro')*100, 2)\n",
        "accuracy_MPL = round(accuracy_score(y_test, y_pred_MPL)*100,2)\n",
        "precision_MPL = round(precision_score(y_test, y_pred_MPL)*100,2)\n",
        "recall_MPL = round(recall_score(y_test, y_pred_MPL)*100,2)\n",
        "\n",
        "print(f\"F1 Score: {f1_MPL}%\")\n",
        "print(f\"Accuracy Score: {accuracy_MPL}%\")\n",
        "print(f\"Precision Score: {precision_MPL}%\")\n",
        "print(f\"Recall Score: {recall_MPL}%\")"
      ],
      "execution_count": 85,
      "outputs": [
        {
          "output_type": "stream",
          "name": "stdout",
          "text": [
            "F1 Score: 70.29%\n",
            "Accuracy Score: 70.49%\n",
            "Precision Score: 68.57%\n",
            "Recall Score: 77.42%\n"
          ]
        }
      ]
    },
    {
      "cell_type": "code",
      "metadata": {
        "colab": {
          "base_uri": "https://localhost:8080/",
          "height": 436
        },
        "id": "ROFrZBOaRpjN",
        "outputId": "d9142515-e71a-4413-9472-69f5e37e2d98"
      },
      "source": [
        "print(classification_report(y_test, y_pred_MPL))\n",
        "plot_confusion_matrix(clf1, X_test, y_test, display_labels=[\"Sim\", \"Não\"])\n",
        "plt.grid(False)\n",
        "plt.show()"
      ],
      "execution_count": 86,
      "outputs": [
        {
          "output_type": "stream",
          "name": "stdout",
          "text": [
            "              precision    recall  f1-score   support\n",
            "\n",
            "           0       0.73      0.63      0.68        30\n",
            "           1       0.69      0.77      0.73        31\n",
            "\n",
            "    accuracy                           0.70        61\n",
            "   macro avg       0.71      0.70      0.70        61\n",
            "weighted avg       0.71      0.70      0.70        61\n",
            "\n"
          ]
        },
        {
          "output_type": "display_data",
          "data": {
            "image/png": "[encoded data removed]",
            "text/plain": [
              "<Figure size 432x288 with 2 Axes>"
            ]
          },
          "metadata": {
            "needs_background": "light"
          }
        }
      ]
    },
    {
      "cell_type": "markdown",
      "metadata": {
        "id": "SsWNfx0FMXpP"
      },
      "source": [
        "##3.2 SVM (Support Vector Machine) Kernel Linear"
      ]
    },
    {
      "cell_type": "code",
      "metadata": {
        "id": "pr9qJW3xMWW7"
      },
      "source": [
        "from sklearn.svm import SVC"
      ],
      "execution_count": 87,
      "outputs": []
    },
    {
      "cell_type": "code",
      "metadata": {
        "colab": {
          "base_uri": "https://localhost:8080/"
        },
        "id": "kbQSHf6PKw6Y",
        "outputId": "73d1a632-f977-4e02-aded-62997b458117"
      },
      "source": [
        "clf2 = SVC(kernel='linear', decision_function_shape='ovo')\n",
        "clf2.fit(X_train,y_train)"
      ],
      "execution_count": 88,
      "outputs": [
        {
          "output_type": "execute_result",
          "data": {
            "text/plain": [
              "SVC(C=1.0, break_ties=False, cache_size=200, class_weight=None, coef0=0.0,\n",
              "    decision_function_shape='ovo', degree=3, gamma='scale', kernel='linear',\n",
              "    max_iter=-1, probability=False, random_state=None, shrinking=True,\n",
              "    tol=0.001, verbose=False)"
            ]
          },
          "metadata": {},
          "execution_count": 88
        }
      ]
    },
    {
      "cell_type": "code",
      "metadata": {
        "colab": {
          "base_uri": "https://localhost:8080/"
        },
        "id": "CA0PfI6JNi49",
        "outputId": "1a87a8b7-8cf4-4489-8841-df862fecb7ba"
      },
      "source": [
        "y_pred_SVML = clf2.predict(X_test)\n",
        "f1_SVML = round(f1_score(y_test, y_pred_SVML, average='macro')*100, 2)\n",
        "accuracy_SVML = round(accuracy_score(y_test, y_pred_SVML)*100,2)\n",
        "precision_SVML = round(precision_score(y_test, y_pred_SVML)*100,2)\n",
        "recall_SVML = round(recall_score(y_test, y_pred_SVML)*100,2)\n",
        "\n",
        "print(f\"F1 Score: {f1_SVML}%\")\n",
        "print(f\"Accuracy Score: {accuracy_SVML}%\")\n",
        "print(f\"Precision Score: {precision_SVML}%\")\n",
        "print(f\"Recall Score: {recall_SVML}%\")"
      ],
      "execution_count": 89,
      "outputs": [
        {
          "output_type": "stream",
          "name": "stdout",
          "text": [
            "F1 Score: 75.17%\n",
            "Accuracy Score: 75.41%\n",
            "Precision Score: 72.22%\n",
            "Recall Score: 83.87%\n"
          ]
        }
      ]
    },
    {
      "cell_type": "code",
      "metadata": {
        "colab": {
          "base_uri": "https://localhost:8080/",
          "height": 432
        },
        "id": "DGYtYT1jTOro",
        "outputId": "1e8ff578-7058-4aca-8b75-b4ff621f43aa"
      },
      "source": [
        "print(classification_report(y_test, y_pred_SVML))\n",
        "plot_confusion_matrix(clf2, X_test, y_test, display_labels=[\"Sim\", \"Não\"])\n",
        "plt.grid(False)\n",
        "plt.show()"
      ],
      "execution_count": 90,
      "outputs": [
        {
          "output_type": "stream",
          "name": "stdout",
          "text": [
            "              precision    recall  f1-score   support\n",
            "\n",
            "           0       0.80      0.67      0.73        30\n",
            "           1       0.72      0.84      0.78        31\n",
            "\n",
            "    accuracy                           0.75        61\n",
            "   macro avg       0.76      0.75      0.75        61\n",
            "weighted avg       0.76      0.75      0.75        61\n",
            "\n"
          ]
        },
        {
          "output_type": "display_data",
          "data": {
            "image/png": "[encoded data removed]",
            "text/plain": [
              "<Figure size 432x288 with 2 Axes>"
            ]
          },
          "metadata": {
            "needs_background": "light"
          }
        }
      ]
    },
    {
      "cell_type": "markdown",
      "metadata": {
        "id": "-VRr8apWONPp"
      },
      "source": [
        "##3.2 SVM (Support Vector Machine) Kernel Polinomial"
      ]
    },
    {
      "cell_type": "code",
      "metadata": {
        "colab": {
          "base_uri": "https://localhost:8080/"
        },
        "id": "mASNp6ivOTZi",
        "outputId": "b9a42ae0-7c9f-485f-84f4-e0387e0344fa"
      },
      "source": [
        "clf3 = SVC(kernel='poly', decision_function_shape='ovo')\n",
        "clf3.fit(X_train,y_train)"
      ],
      "execution_count": 91,
      "outputs": [
        {
          "output_type": "execute_result",
          "data": {
            "text/plain": [
              "SVC(C=1.0, break_ties=False, cache_size=200, class_weight=None, coef0=0.0,\n",
              "    decision_function_shape='ovo', degree=3, gamma='scale', kernel='poly',\n",
              "    max_iter=-1, probability=False, random_state=None, shrinking=True,\n",
              "    tol=0.001, verbose=False)"
            ]
          },
          "metadata": {},
          "execution_count": 91
        }
      ]
    },
    {
      "cell_type": "code",
      "metadata": {
        "colab": {
          "base_uri": "https://localhost:8080/"
        },
        "id": "0FfsLfVzOacA",
        "outputId": "019e7dfb-0e18-4477-febe-297ce5ceada7"
      },
      "source": [
        "y_pred_SVMP = clf3.predict(X_test)\n",
        "f1_SVMP = round(f1_score(y_test, y_pred_SVMP, average='macro')*100, 2)\n",
        "accuracy_SVMP = round(accuracy_score(y_test, y_pred_SVMP)*100,2)\n",
        "precision_SVMP = round(precision_score(y_test, y_pred_SVMP)*100,2)\n",
        "recall_SVMP = round(recall_score(y_test, y_pred_SVMP)*100,2)\n",
        "\n",
        "print(f\"F1 Score: {f1_SVMP}%\")\n",
        "print(f\"Accuracy Score: {accuracy_SVMP}%\")\n",
        "print(f\"Precision Score: {precision_SVMP}%\")\n",
        "print(f\"Recall Score: {recall_SVMP}%\")"
      ],
      "execution_count": 92,
      "outputs": [
        {
          "output_type": "stream",
          "name": "stdout",
          "text": [
            "F1 Score: 73.59%\n",
            "Accuracy Score: 73.77%\n",
            "Precision Score: 71.43%\n",
            "Recall Score: 80.65%\n"
          ]
        }
      ]
    },
    {
      "cell_type": "code",
      "metadata": {
        "colab": {
          "base_uri": "https://localhost:8080/",
          "height": 436
        },
        "id": "vcydUoR0T_XI",
        "outputId": "aabbbc67-62ec-4ace-dc52-1ee45d1dd276"
      },
      "source": [
        "print(classification_report(y_test, y_pred_SVMP))\n",
        "plot_confusion_matrix(clf3, X_test, y_test, display_labels=[\"Sim\", \"Não\"])\n",
        "plt.grid(False)\n",
        "plt.show()"
      ],
      "execution_count": 93,
      "outputs": [
        {
          "output_type": "stream",
          "name": "stdout",
          "text": [
            "              precision    recall  f1-score   support\n",
            "\n",
            "           0       0.77      0.67      0.71        30\n",
            "           1       0.71      0.81      0.76        31\n",
            "\n",
            "    accuracy                           0.74        61\n",
            "   macro avg       0.74      0.74      0.74        61\n",
            "weighted avg       0.74      0.74      0.74        61\n",
            "\n"
          ]
        },
        {
          "output_type": "display_data",
          "data": {
            "image/png": "[encoded data removed]",
            "text/plain": [
              "<Figure size 432x288 with 2 Axes>"
            ]
          },
          "metadata": {
            "needs_background": "light"
          }
        }
      ]
    },
    {
      "cell_type": "markdown",
      "metadata": {
        "id": "O1dgUV7zOm5j"
      },
      "source": [
        "#3.3 Decision Tree (DT)"
      ]
    },
    {
      "cell_type": "code",
      "metadata": {
        "id": "oIUt23XsO6vZ"
      },
      "source": [
        "from sklearn.tree import DecisionTreeClassifier"
      ],
      "execution_count": 94,
      "outputs": []
    },
    {
      "cell_type": "code",
      "metadata": {
        "colab": {
          "base_uri": "https://localhost:8080/"
        },
        "id": "i-U0lmCOO9dB",
        "outputId": "7ca49770-91e9-4122-e2e9-4e7a57957b9c"
      },
      "source": [
        "clf4 = DecisionTreeClassifier(criterion=\"entropy\")\n",
        "clf4.fit(X_train,y_train)"
      ],
      "execution_count": 95,
      "outputs": [
        {
          "output_type": "execute_result",
          "data": {
            "text/plain": [
              "DecisionTreeClassifier(ccp_alpha=0.0, class_weight=None, criterion='entropy',\n",
              "                       max_depth=None, max_features=None, max_leaf_nodes=None,\n",
              "                       min_impurity_decrease=0.0, min_impurity_split=None,\n",
              "                       min_samples_leaf=1, min_samples_split=2,\n",
              "                       min_weight_fraction_leaf=0.0, presort='deprecated',\n",
              "                       random_state=None, splitter='best')"
            ]
          },
          "metadata": {},
          "execution_count": 95
        }
      ]
    },
    {
      "cell_type": "code",
      "metadata": {
        "colab": {
          "base_uri": "https://localhost:8080/"
        },
        "id": "6y9UGrxQPGi1",
        "outputId": "6b99ef66-da32-422b-ba40-5a2cb732f398"
      },
      "source": [
        "y_pred_DT = clf4.predict(X_test)\n",
        "f1_DT = round(f1_score(y_test, y_pred_DT, average='macro')*100, 2)\n",
        "accuracy_DT = round(accuracy_score(y_test, y_pred_DT)*100,2)\n",
        "precision_DT = round(precision_score(y_test, y_pred_DT)*100,2)\n",
        "recall_DT = round(recall_score(y_test, y_pred_DT)*100,2)\n",
        "\n",
        "print(f\"F1 Score: {f1_DT}%\")\n",
        "print(f\"Accuracy Score: {accuracy_DT}%\")\n",
        "print(f\"Precision Score: {precision_DT}%\")\n",
        "print(f\"Recall Score: {recall_DT}%\")"
      ],
      "execution_count": 96,
      "outputs": [
        {
          "output_type": "stream",
          "name": "stdout",
          "text": [
            "F1 Score: 70.1%\n",
            "Accuracy Score: 70.49%\n",
            "Precision Score: 67.57%\n",
            "Recall Score: 80.65%\n"
          ]
        }
      ]
    },
    {
      "cell_type": "code",
      "metadata": {
        "colab": {
          "base_uri": "https://localhost:8080/",
          "height": 436
        },
        "id": "YjFNV4aYUHtJ",
        "outputId": "49d4e152-1706-441b-c3f4-4d049d13f43a"
      },
      "source": [
        "print(classification_report(y_test, y_pred_DT))\n",
        "plot_confusion_matrix(clf4, X_test, y_test, display_labels=[\"Sim\", \"Não\"])\n",
        "plt.grid(False)\n",
        "plt.show()"
      ],
      "execution_count": 97,
      "outputs": [
        {
          "output_type": "stream",
          "name": "stdout",
          "text": [
            "              precision    recall  f1-score   support\n",
            "\n",
            "           0       0.75      0.60      0.67        30\n",
            "           1       0.68      0.81      0.74        31\n",
            "\n",
            "    accuracy                           0.70        61\n",
            "   macro avg       0.71      0.70      0.70        61\n",
            "weighted avg       0.71      0.70      0.70        61\n",
            "\n"
          ]
        },
        {
          "output_type": "display_data",
          "data": {
            "image/png": "[encoded data removed]",
            "text/plain": [
              "<Figure size 432x288 with 2 Axes>"
            ]
          },
          "metadata": {
            "needs_background": "light"
          }
        }
      ]
    },
    {
      "cell_type": "markdown",
      "metadata": {
        "id": "YZghp7weP1qg"
      },
      "source": [
        "#4. Hiperparametrização (SVML_HP)"
      ]
    },
    {
      "cell_type": "code",
      "metadata": {
        "id": "-AkKInGGPhRJ"
      },
      "source": [
        "from sklearn.model_selection import GridSearchCV"
      ],
      "execution_count": 98,
      "outputs": []
    },
    {
      "cell_type": "code",
      "metadata": {
        "id": "iOhudlWSQpoT"
      },
      "source": [
        "params_grid = {'C': [0.1,1, 10, 100], 'gamma': [1,0.1,0.01,0.001]}"
      ],
      "execution_count": 99,
      "outputs": []
    },
    {
      "cell_type": "code",
      "metadata": {
        "id": "q2QWC0NjQrrT"
      },
      "source": [
        "X_train_HP = X_train.copy()\n",
        "X_test_HP = X_test.copy()\n",
        "y_train_HP = y_train.copy()\n",
        "y_test_HP = y_test.copy()"
      ],
      "execution_count": 100,
      "outputs": []
    },
    {
      "cell_type": "code",
      "metadata": {
        "colab": {
          "base_uri": "https://localhost:8080/"
        },
        "id": "mfVDTs2DQxuU",
        "outputId": "53ab3961-5cea-46db-bf97-c923a3e8ea86"
      },
      "source": [
        "clf5 = SVC()\n",
        "\n",
        "grid_search = GridSearchCV(clf5, param_grid=params_grid, cv=3, n_jobs=-1, verbose=2)\n",
        "\n",
        "grid_search.fit(X_train_HP, y_train_HP)"
      ],
      "execution_count": 101,
      "outputs": [
        {
          "output_type": "stream",
          "name": "stdout",
          "text": [
            "Fitting 3 folds for each of 16 candidates, totalling 48 fits\n"
          ]
        },
        {
          "output_type": "stream",
          "name": "stderr",
          "text": [
            "[Parallel(n_jobs=-1)]: Using backend LokyBackend with 2 concurrent workers.\n",
            "[Parallel(n_jobs=-1)]: Done  48 out of  48 | elapsed:    1.4s finished\n"
          ]
        },
        {
          "output_type": "execute_result",
          "data": {
            "text/plain": [
              "GridSearchCV(cv=3, error_score=nan,\n",
              "             estimator=SVC(C=1.0, break_ties=False, cache_size=200,\n",
              "                           class_weight=None, coef0=0.0,\n",
              "                           decision_function_shape='ovr', degree=3,\n",
              "                           gamma='scale', kernel='rbf', max_iter=-1,\n",
              "                           probability=False, random_state=None, shrinking=True,\n",
              "                           tol=0.001, verbose=False),\n",
              "             iid='deprecated', n_jobs=-1,\n",
              "             param_grid={'C': [0.1, 1, 10, 100],\n",
              "                         'gamma': [1, 0.1, 0.01, 0.001]},\n",
              "             pre_dispatch='2*n_jobs', refit=True, return_train_score=False,\n",
              "             scoring=None, verbose=2)"
            ]
          },
          "metadata": {},
          "execution_count": 101
        }
      ]
    },
    {
      "cell_type": "code",
      "metadata": {
        "colab": {
          "base_uri": "https://localhost:8080/"
        },
        "id": "yrQ1qtdDSBEL",
        "outputId": "26614c91-a238-4f6e-910f-2e07962fcb5d"
      },
      "source": [
        "print(grid_search.best_estimator_)"
      ],
      "execution_count": 102,
      "outputs": [
        {
          "output_type": "stream",
          "name": "stdout",
          "text": [
            "SVC(C=1, break_ties=False, cache_size=200, class_weight=None, coef0=0.0,\n",
            "    decision_function_shape='ovr', degree=3, gamma=0.001, kernel='rbf',\n",
            "    max_iter=-1, probability=False, random_state=None, shrinking=True,\n",
            "    tol=0.001, verbose=False)\n"
          ]
        }
      ]
    },
    {
      "cell_type": "code",
      "metadata": {
        "colab": {
          "base_uri": "https://localhost:8080/"
        },
        "id": "6Gi162oAQ9Eb",
        "outputId": "ebd03345-8411-4db9-f105-6c0c46699867"
      },
      "source": [
        "y_pred_HP = grid_search.predict(X_test)\n",
        "f1_HP = round(f1_score(y_test, y_pred_HP, average='macro')*100, 2)\n",
        "accuracy_HP = round(accuracy_score(y_test, y_pred_HP)*100,2)\n",
        "precision_HP = round(precision_score(y_test, y_pred_HP)*100,2)\n",
        "recall_HP = round(recall_score(y_test, y_pred_HP)*100,2)\n",
        "\n",
        "print(f\"F1 Score: {f1_HP}%\")\n",
        "print(f\"Accuracy Score: {accuracy_HP}%\")\n",
        "print(f\"Precision Score: {precision_HP}%\")\n",
        "print(f\"Recall Score: {recall_HP}%\")"
      ],
      "execution_count": 103,
      "outputs": [
        {
          "output_type": "stream",
          "name": "stdout",
          "text": [
            "F1 Score: 74.98%\n",
            "Accuracy Score: 75.41%\n",
            "Precision Score: 71.05%\n",
            "Recall Score: 87.1%\n"
          ]
        }
      ]
    },
    {
      "cell_type": "code",
      "metadata": {
        "colab": {
          "base_uri": "https://localhost:8080/",
          "height": 432
        },
        "id": "3U8fiKkbXOlv",
        "outputId": "2b851295-2908-46e4-c8db-1f07be58bcf4"
      },
      "source": [
        "print(classification_report(y_test, y_pred_HP))\n",
        "plot_confusion_matrix(grid_search, X_test, y_test, display_labels=[\"Sim\", \"Não\"])\n",
        "plt.grid(False)\n",
        "plt.show()"
      ],
      "execution_count": 104,
      "outputs": [
        {
          "output_type": "stream",
          "name": "stdout",
          "text": [
            "              precision    recall  f1-score   support\n",
            "\n",
            "           0       0.83      0.63      0.72        30\n",
            "           1       0.71      0.87      0.78        31\n",
            "\n",
            "    accuracy                           0.75        61\n",
            "   macro avg       0.77      0.75      0.75        61\n",
            "weighted avg       0.77      0.75      0.75        61\n",
            "\n"
          ]
        },
        {
          "output_type": "display_data",
          "data": {
            "image/png": "[encoded data removed]",
            "text/plain": [
              "<Figure size 432x288 with 2 Axes>"
            ]
          },
          "metadata": {
            "needs_background": "light"
          }
        }
      ]
    },
    {
      "cell_type": "markdown",
      "metadata": {
        "id": "4ISvBcQQV9Oy"
      },
      "source": [
        "#5. Redução de dimensionalidade"
      ]
    },
    {
      "cell_type": "markdown",
      "metadata": {
        "id": "ixhiGNmsT921"
      },
      "source": [
        "Aqui iremos reduzir a dimensionalidade do dataset para 2 features mais significativas, é possível observar que a massa de dados fica bem próxima e de difícil separação"
      ]
    },
    {
      "cell_type": "code",
      "metadata": {
        "id": "dQM9hX0gWP6i"
      },
      "source": [
        "from sklearn.decomposition import PCA"
      ],
      "execution_count": 105,
      "outputs": []
    },
    {
      "cell_type": "code",
      "metadata": {
        "colab": {
          "base_uri": "https://localhost:8080/",
          "height": 282
        },
        "id": "FQDDp4MKWAaU",
        "outputId": "c8e46ffb-5591-44c1-c398-265f0b8d2810"
      },
      "source": [
        "pca = PCA(n_components=2)\n",
        "X_PCA = pca.fit_transform(X)\n",
        "sns.scatterplot(x=X_PCA[:,0], y=X_PCA[:,1], hue=Y)"
      ],
      "execution_count": 106,
      "outputs": [
        {
          "output_type": "execute_result",
          "data": {
            "text/plain": [
              "<matplotlib.axes._subplots.AxesSubplot at 0x7f3a9ddedf90>"
            ]
          },
          "metadata": {},
          "execution_count": 106
        },
        {
          "output_type": "display_data",
          "data": {
            "image/png": "[encoded data removed]",
            "text/plain": [
              "<Figure size 432x288 with 1 Axes>"
            ]
          },
          "metadata": {
            "needs_background": "light"
          }
        }
      ]
    },
    {
      "cell_type": "markdown",
      "metadata": {
        "id": "gmNDD8QdMaZn"
      },
      "source": [
        "#6.Resumo e comparação de modelos"
      ]
    },
    {
      "cell_type": "code",
      "metadata": {
        "id": "DY19Hp_SWi1w"
      },
      "source": [
        "lista=['MPL','SVML','SVMP','DT','SVML_HP']\n",
        "resultado={'F1 Score':[f1_MPL,f1_SVML,f1_SVMP,f1_DT,f1_HP],\n",
        "           'Accuracy Score':[accuracy_MPL,accuracy_SVML,accuracy_SVMP,accuracy_DT,accuracy_HP],\n",
        "           'Precision Score':[precision_MPL,precision_SVML,precision_SVMP,precision_DT,precision_HP],\n",
        "           'Recall Score':[recall_MPL,recall_SVML,recall_SVMP,recall_DT,recall_HP]}"
      ],
      "execution_count": 109,
      "outputs": []
    },
    {
      "cell_type": "code",
      "metadata": {
        "colab": {
          "base_uri": "https://localhost:8080/",
          "height": 173
        },
        "id": "enqfeh1hPCmd",
        "outputId": "574d8ffe-3f03-4114-9775-448913e90aa0"
      },
      "source": [
        "pd.DataFrame.from_dict(resultado,orient='index',columns=lista)"
      ],
      "execution_count": 111,
      "outputs": [
        {
          "output_type": "execute_result",
          "data": {
            "text/html": [
              "<div>\n",
              "<style scoped>\n",
              "    .dataframe tbody tr th:only-of-type {\n",
              "        vertical-align: middle;\n",
              "    }\n",
              "\n",
              "    .dataframe tbody tr th {\n",
              "        vertical-align: top;\n",
              "    }\n",
              "\n",
              "    .dataframe thead th {\n",
              "        text-align: right;\n",
              "    }\n",
              "</style>\n",
              "<table border=\"1\" class=\"dataframe\">\n",
              "  <thead>\n",
              "    <tr style=\"text-align: right;\">\n",
              "      <th></th>\n",
              "      <th>MPL</th>\n",
              "      <th>SVML</th>\n",
              "      <th>SVMP</th>\n",
              "      <th>DT</th>\n",
              "      <th>SVML_HP</th>\n",
              "    </tr>\n",
              "  </thead>\n",
              "  <tbody>\n",
              "    <tr>\n",
              "      <th>F1 Score</th>\n",
              "      <td>70.29</td>\n",
              "      <td>75.17</td>\n",
              "      <td>73.59</td>\n",
              "      <td>70.10</td>\n",
              "      <td>74.98</td>\n",
              "    </tr>\n",
              "    <tr>\n",
              "      <th>Accuracy Score</th>\n",
              "      <td>70.49</td>\n",
              "      <td>75.41</td>\n",
              "      <td>73.77</td>\n",
              "      <td>70.49</td>\n",
              "      <td>75.41</td>\n",
              "    </tr>\n",
              "    <tr>\n",
              "      <th>Precision Score</th>\n",
              "      <td>68.57</td>\n",
              "      <td>72.22</td>\n",
              "      <td>71.43</td>\n",
              "      <td>67.57</td>\n",
              "      <td>71.05</td>\n",
              "    </tr>\n",
              "    <tr>\n",
              "      <th>Recall Score</th>\n",
              "      <td>77.42</td>\n",
              "      <td>83.87</td>\n",
              "      <td>80.65</td>\n",
              "      <td>80.65</td>\n",
              "      <td>87.10</td>\n",
              "    </tr>\n",
              "  </tbody>\n",
              "</table>\n",
              "</div>"
            ],
            "text/plain": [
              "                   MPL   SVML   SVMP     DT  SVML_HP\n",
              "F1 Score         70.29  75.17  73.59  70.10    74.98\n",
              "Accuracy Score   70.49  75.41  73.77  70.49    75.41\n",
              "Precision Score  68.57  72.22  71.43  67.57    71.05\n",
              "Recall Score     77.42  83.87  80.65  80.65    87.10"
            ]
          },
          "metadata": {},
          "execution_count": 111
        }
      ]
    },
    {
      "cell_type": "markdown",
      "metadata": {
        "id": "WWdPYVYpTDu_"
      },
      "source": [
        "O modelo SVM com kernel linear teve o melhor f1 score entre os modelos, porém, é interessante avaliar também o recall score, já que no caso de identificar uma doença, um verdadeiro negativo tem um peso grande sobre os falsos positivos e podem custar a vida de um paciente mal diagnosticado, no caso o melhor modelo seria o SVM com kernel linear após passar por um tunning de hiperparâmetros"
      ]
    }
  ]
}